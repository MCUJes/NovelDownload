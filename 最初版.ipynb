{
 "cells": [
  {
   "cell_type": "code",
   "execution_count": 1,
   "id": "97c14e69",
   "metadata": {
    "executionInfo": {
     "elapsed": 16,
     "status": "ok",
     "timestamp": 1672394707141,
     "user": {
      "displayName": "K Jess",
      "userId": "07344342112243771730"
     },
     "user_tz": -480
    },
    "id": "97c14e69"
   },
   "outputs": [],
   "source": [
    "#導入所需Python資料庫\n",
    "from bs4 import BeautifulSoup #從HTML或XML文件中提取資料\n",
    "import requests #可以將網頁內容列出\n",
    "import json #JSON(JavaScript Object Notation) 是一種輕量級的資料交換格式，易於人閱讀和編寫。"
   ]
  },
  {
   "cell_type": "code",
   "execution_count": null,
   "id": "bc7ddad8",
   "metadata": {
    "colab": {
     "base_uri": "https://localhost:8080/"
    },
    "collapsed": true,
    "executionInfo": {
     "elapsed": 278,
     "status": "ok",
     "timestamp": 1672199319213,
     "user": {
      "displayName": "K Jess",
      "userId": "07344342112243771730"
     },
     "user_tz": -480
    },
    "id": "bc7ddad8",
    "outputId": "7f92a9ba-82c8-4f67-8bce-79ee3a2ec1d8"
   },
   "outputs": [
    {
     "name": "stdout",
     "output_type": "stream",
     "text": [
      "200\n"
     ]
    }
   ],
   "source": [
    "#明確url鏈接\n",
    "url = 'https://www.52shuku.vip/gl/h1v7.html'\n",
    "\n",
    "#偽裝瀏覽器 \n",
    "headers = {'User-Agent': \n",
    "           'Mozilla/5.0 (Windows NT 6.1; Win64; x64)' \n",
    "           'AppleWebKit/537.36 (KHTML, like Gecko)'\n",
    "           'Chrome/62.0.3202.62 Safari/537.36'}\n",
    "           \n",
    "#發送獲取網站內容的請求\n",
    "link = requests.get(url, headers=headers)\n",
    "\n",
    "#利用Beautiful Soup解析網頁，此處使用了html格式\n",
    "soup_link = BeautifulSoup(link.content, 'html')\n",
    "\n",
    "print(link.status_code) #請求成功完成，伺服器給了瀏覽器預期的響應。"
   ]
  },
  {
   "cell_type": "code",
   "execution_count": null,
   "id": "1921940a",
   "metadata": {
    "id": "1921940a"
   },
   "outputs": [],
   "source": [
    "#觀察網頁內容\n",
    "soup_link"
   ]
  },
  {
   "cell_type": "code",
   "execution_count": null,
   "id": "df32341c",
   "metadata": {
    "id": "df32341c"
   },
   "outputs": [],
   "source": [
    "#找出所有正文章節鏈接\n",
    "l = soup_link.find_all('li', {'class':'mulu'})\n",
    "l"
   ]
  },
  {
   "cell_type": "code",
   "execution_count": null,
   "id": "04373f6b",
   "metadata": {
    "id": "04373f6b"
   },
   "outputs": [],
   "source": [
    "#將數字字段節選出來\n",
    "\n",
    "#創建新列以便儲存\n",
    "lis = []\n",
    "\n",
    "#利用split按照“h1”進行分割後只取最後一節\n",
    "for i in l:\n",
    "    lis.append(i.find('a')['href'].split('h1')[-1])\n",
    "\n",
    "#確認一下\n",
    "print(lis)"
   ]
  },
  {
   "cell_type": "code",
   "execution_count": null,
   "id": "9da7964f",
   "metadata": {
    "id": "9da7964f"
   },
   "outputs": [],
   "source": [
    "#將上方內容和原始url進行整合\n",
    "url_lis = []\n",
    "for i in lis:\n",
    "    url_lis.append('https://www.52shuku.vip/gl/h1' + str(i))\n",
    "    \n",
    "#確認一下\n",
    "url_lis"
   ]
  },
  {
   "cell_type": "code",
   "execution_count": null,
   "id": "38541910",
   "metadata": {
    "id": "38541910"
   },
   "outputs": [],
   "source": [
    "#将頁碼列出\n",
    "page = []\n",
    "for i in l:\n",
    "    page.append(i.text)\n",
    "\n",
    "#確認一下\n",
    "page"
   ]
  },
  {
   "cell_type": "code",
   "execution_count": null,
   "id": "622a4b8a",
   "metadata": {
    "id": "622a4b8a"
   },
   "outputs": [],
   "source": [
    "#利用第一章的連結直接實驗\n",
    "#解析第一章網頁\n",
    "url1 = 'https://www.52shuku.vip/gl/h1v7_2.html'\n",
    "url1_link = requests.get(url1)\n",
    "soup1_lik = BeautifulSoup(url1_link.content, 'html')\n",
    "\n",
    "#找出正文内容\n",
    "a = soup1_lik.find('div', {'class': 'content contentmargin'}).find_all('p')\n",
    "\n",
    "#確認一下\n",
    "a"
   ]
  },
  {
   "cell_type": "code",
   "execution_count": null,
   "id": "87739ef1",
   "metadata": {
    "id": "87739ef1"
   },
   "outputs": [],
   "source": [
    "#打開或創建文檔\n",
    "file = open('女主说我撩她.txt', 'w',encoding='UTF-8')\n",
    "\n",
    "#為了查看進度，這裡設置一個記數\n",
    "x = 0\n",
    "\n",
    "#利用for loop以及zip將頁碼和正文內容按照順序逐個存放入TXT文檔\n",
    "for i, j in zip(url_lis, page):\n",
    "    url_link = requests.get(i)\n",
    "    soup_lik = BeautifulSoup(url_link.content, 'html')\n",
    "    a = soup_lik.find('div', {'class': 'content-wrap'}).find('article')\n",
    "    #清理不需要的資訊\n",
    "    for e in soup_lik.find('div', {'class': 'content contentmargin'}).find_all('div'):\n",
    "      e.extract()\n",
    "\n",
    "    for k in soup_lik.find('div', {'class': 'content contentmargin'}).find_all('button'):\n",
    "      k.extract()\n",
    "        \n",
    "    file.write(a.text)\n",
    "    x += 1\n",
    "    print('Page' + str(x) + '已完成。')\n",
    "print('全文下載完畢，祝閱讀愉快~')\n",
    "file.close()"
   ]
  },
  {
   "cell_type": "code",
   "execution_count": 2,
   "id": "795e50db",
   "metadata": {
    "executionInfo": {
     "elapsed": 332,
     "status": "ok",
     "timestamp": 1672394898684,
     "user": {
      "displayName": "K Jess",
      "userId": "07344342112243771730"
     },
     "user_tz": -480
    },
    "id": "795e50db"
   },
   "outputs": [],
   "source": [
    "#其中，x為小說目錄頁網址\n",
    "def get_book(x):\n",
    "    url = x\n",
    "    headers = {'User-Agent': \n",
    "           'Mozilla/5.0 (Windows NT 6.1; Win64; x64)' \n",
    "           'AppleWebKit/537.36 (KHTML, like Gecko)'\n",
    "           'Chrome/62.0.3202.62 Safari/537.36'}\n",
    "    link = requests.get(url, headers=headers)\n",
    "    soup_link = BeautifulSoup(link.content, 'html')\n",
    "    l = soup_link.find_all('li', {'class':'mulu'})\n",
    "\n",
    "#得到小說名稱\n",
    "    title = soup_link.find('header', {'class': 'article-header'}).find('h1').text\n",
    "    \n",
    "#爬取章節部分連結，須根據網址進行調整\n",
    "    lis = []\n",
    "    for i in l:\n",
    "        lis.append(i.find('a')['href'].split('vip/')[-1])\n",
    "    \n",
    "#整合連結，須根據網址進行調整\n",
    "    url_lis = []\n",
    "    for i in lis:\n",
    "         url_lis.append('https://www.52shuku.vip/' + str(i))\n",
    "    \n",
    "#爬取並整理章節標題\n",
    "    chap = []\n",
    "    for i in l:\n",
    "        chap.append(i.text)\n",
    "    chap = list(map(str.strip,chap))\n",
    "    \n",
    "#用小說名稱將TXT文檔進行命名\n",
    "    file = open('%s.txt' %title, 'w',encoding='UTF-8')\n",
    "\n",
    "#將正文內容逐個存放入TXT文檔\n",
    "    for i, j in zip(url_lis, chap):\n",
    "        url_link = requests.get(i)\n",
    "        soup_lik = BeautifulSoup(url_link.content, 'html')\n",
    "        a = soup_lik.find('div', {'class': 'content-wrap'}).find('article')\n",
    "        #清理不需要的資訊\n",
    "        for e in soup_lik.find('div', {'class': 'content contentmargin'}).find_all('div'):\n",
    "            e.extract()\n",
    "\n",
    "        for k in soup_lik.find('div', {'class': 'content contentmargin'}).find_all('button'):\n",
    "            k.extract()\n",
    "            \n",
    "        file.write(a.text)\n",
    "        \n",
    "    return print('《%s》已下載完畢。' %title)"
   ]
  },
  {
   "cell_type": "code",
   "execution_count": null,
   "id": "lt3SKcSTno39",
   "metadata": {
    "id": "lt3SKcSTno39"
   },
   "outputs": [],
   "source": [
    "get_book('https://www.52shuku.vip/gl/h0G3.html')"
   ]
  },
  {
   "cell_type": "code",
   "execution_count": null,
   "id": "DUplBsxL2Mq_",
   "metadata": {
    "colab": {
     "base_uri": "https://localhost:8080/"
    },
    "collapsed": true,
    "executionInfo": {
     "elapsed": 34731,
     "status": "ok",
     "timestamp": 1672200064295,
     "user": {
      "displayName": "K Jess",
      "userId": "07344342112243771730"
     },
     "user_tz": -480
    },
    "id": "DUplBsxL2Mq_",
    "outputId": "a21dd98b-b62c-4a0b-9c4d-db379963c1ce"
   },
   "outputs": [
    {
     "name": "stdout",
     "output_type": "stream",
     "text": [
      "200\n"
     ]
    }
   ],
   "source": [
    "#明確url鏈接\n",
    "url = 'https://www.jjwxc.net/'\n",
    "\n",
    "#偽裝瀏覽器 \n",
    "headers = {'User-Agent': \n",
    "           'Mozilla/5.0 (Windows NT 6.1; Win64; x64) '  \n",
    "           'AppleWebKit/537.36 (KHTML, like Gecko)' \n",
    "           'Chrome/62.0.3202.62 Safari/537.36'}\n",
    "           \n",
    "#發送獲取網站內容的請求\n",
    "link = requests.get(url, headers=headers)\n",
    "\n",
    "#利用Beautiful Soup解析網頁，此處使用了html格式\n",
    "soup_link = BeautifulSoup(link.content, 'html')\n",
    "\n",
    "print(link.status_code) #請求成功完成，伺服器給了瀏覽器預期的響應。"
   ]
  }
 ],
 "metadata": {
  "colab": {
   "provenance": []
  },
  "kernelspec": {
   "display_name": "Python 3 (ipykernel)",
   "language": "python",
   "name": "python3"
  },
  "language_info": {
   "codemirror_mode": {
    "name": "ipython",
    "version": 3
   },
   "file_extension": ".py",
   "mimetype": "text/x-python",
   "name": "python",
   "nbconvert_exporter": "python",
   "pygments_lexer": "ipython3",
   "version": "3.9.7"
  }
 },
 "nbformat": 4,
 "nbformat_minor": 5
}
