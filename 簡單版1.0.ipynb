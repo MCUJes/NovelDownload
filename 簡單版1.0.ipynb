{
 "cells": [
  {
   "cell_type": "code",
   "execution_count": 3,
   "id": "97c14e69",
   "metadata": {
    "executionInfo": {
     "elapsed": 2391,
     "status": "ok",
     "timestamp": 1673010264530,
     "user": {
      "displayName": "K Jess",
      "userId": "07344342112243771730"
     },
     "user_tz": -480
    },
    "id": "97c14e69"
   },
   "outputs": [],
   "source": [
    "#導入所需Python資料庫\n",
    "from bs4 import BeautifulSoup #從HTML或XML文件中提取資料\n",
    "import requests #可以將網頁內容列出\n",
    "import json #JSON(JavaScript Object Notation) 是一種輕量級的資料交換格式，易於人閱讀和編寫。"
   ]
  },
  {
   "cell_type": "code",
   "execution_count": 4,
   "id": "795e50db",
   "metadata": {
    "executionInfo": {
     "elapsed": 3,
     "status": "ok",
     "timestamp": 1673010270072,
     "user": {
      "displayName": "K Jess",
      "userId": "07344342112243771730"
     },
     "user_tz": -480
    },
    "id": "795e50db"
   },
   "outputs": [],
   "source": [
    "#其中，x為小說目錄頁網址\n",
    "def get_book(x):\n",
    "    url = x\n",
    "    \n",
    "    #偽裝瀏覽器\n",
    "    headers = {'User-Agent': 'Mozilla/5.0 (Windows NT 6.1; Win64; x64) ' \n",
    "            'AppleWebKit/537.36 (KHTML, like Gecko)'\n",
    "            ' Chrome/62.0.3202.62 Safari/537.36'}\n",
    "    \n",
    "    #發送獲取網站內容的請求     \n",
    "    link = requests.get(url, headers=headers) \n",
    "    \n",
    "    #利用Beautiful Soup解析網頁，此處使用了html格式\n",
    "    soup_link = BeautifulSoup(link.content, 'html')\n",
    "    \n",
    "    #找出所有正文章節鏈接\n",
    "    l = soup_link.find_all('li', {'class':'mulu'})\n",
    "\n",
    "#得到小說名稱\n",
    "    title = soup_link.find('header', {'class': 'article-header'}).find('h1').text\n",
    "    \n",
    "#爬取章節部分連結\n",
    "    lis = []\n",
    "    for i in l:\n",
    "        lis.append(i.find('a')['href'].split('vip/')[-1])\n",
    "    \n",
    "#整合連結\n",
    "    url_lis = []\n",
    "    for i in lis:\n",
    "         url_lis.append('https://www.52shuku.vip/' + str(i))\n",
    "    \n",
    "#爬取並整理章節標題\n",
    "    page = []\n",
    "    for i in l:\n",
    "        page.append(i.text)\n",
    "    page = list(map(str.strip,page))\n",
    "    \n",
    "#用小說名稱將TXT文檔進行命名\n",
    "    file = open('%s.txt' %title, 'w',encoding='UTF-8')\n",
    "\n",
    "#利用for loop以及zip將頁碼和正文內容按照順序逐個存放入TXT文檔\n",
    "    for i, j in zip(url_lis, page):\n",
    "        url_link = requests.get(i)\n",
    "        soup_lik = BeautifulSoup(url_link.content, 'html')\n",
    "        a = soup_lik.find('div', {'class': 'content-wrap'}).find('article')\n",
    "        #清理不需要的資訊\n",
    "        for e in soup_lik.find('div', {'class': 'content contentmargin'}).find_all('div'):\n",
    "            e.extract()\n",
    "\n",
    "        for k in soup_lik.find('div', {'class': 'content contentmargin'}).find_all('button'):\n",
    "            k.extract()\n",
    "            \n",
    "        file.write(a.text)\n",
    "        \n",
    "    return print('《%s》已下載完畢。' %title)"
   ]
  },
  {
   "cell_type": "code",
   "execution_count": 6,
   "id": "8b30ce86",
   "metadata": {
    "colab": {
     "base_uri": "https://localhost:8080/",
     "height": 577
    },
    "executionInfo": {
     "elapsed": 33201,
     "status": "error",
     "timestamp": 1673010308387,
     "user": {
      "displayName": "K Jess",
      "userId": "07344342112243771730"
     },
     "user_tz": -480
    },
    "id": "8b30ce86",
    "outputId": "dc0b6ac1-059c-4dff-bcfd-2429f8902d5b"
   },
   "outputs": [
    {
     "name": "stdout",
     "output_type": "stream",
     "text": [
      "《拯救被PUA女主[快穿]_城玉【完结】》已下載完畢。\n"
     ]
    }
   ],
   "source": [
    "get_book('https://www.52shuku.vip/gl/b/bjNlw.html')"
   ]
  },
  {
   "cell_type": "code",
   "execution_count": null,
   "id": "45bc2485",
   "metadata": {},
   "outputs": [],
   "source": []
  }
 ],
 "metadata": {
  "accelerator": "GPU",
  "colab": {
   "provenance": []
  },
  "gpuClass": "standard",
  "kernelspec": {
   "display_name": "Python 3 (ipykernel)",
   "language": "python",
   "name": "python3"
  },
  "language_info": {
   "codemirror_mode": {
    "name": "ipython",
    "version": 3
   },
   "file_extension": ".py",
   "mimetype": "text/x-python",
   "name": "python",
   "nbconvert_exporter": "python",
   "pygments_lexer": "ipython3",
   "version": "3.9.7"
  }
 },
 "nbformat": 4,
 "nbformat_minor": 5
}
